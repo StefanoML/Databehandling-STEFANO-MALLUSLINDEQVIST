{
 "cells": [
  {
   "cell_type": "code",
   "execution_count": 11,
   "id": "44e15fe4",
   "metadata": {},
   "outputs": [
    {
     "name": "stdout",
     "output_type": "stream",
     "text": [
      "    name  age       city\n",
      "0  Anton   38  Stockholm\n",
      "1    Ben   43   Göteborg\n",
      "2   Carl   50      Malmö\n"
     ]
    },
    {
     "data": {
      "text/html": [
       "<div>\n",
       "<style scoped>\n",
       "    .dataframe tbody tr th:only-of-type {\n",
       "        vertical-align: middle;\n",
       "    }\n",
       "\n",
       "    .dataframe tbody tr th {\n",
       "        vertical-align: top;\n",
       "    }\n",
       "\n",
       "    .dataframe thead th {\n",
       "        text-align: right;\n",
       "    }\n",
       "</style>\n",
       "<table border=\"1\" class=\"dataframe\">\n",
       "  <thead>\n",
       "    <tr style=\"text-align: right;\">\n",
       "      <th></th>\n",
       "      <th>name</th>\n",
       "      <th>age</th>\n",
       "      <th>city</th>\n",
       "    </tr>\n",
       "  </thead>\n",
       "  <tbody>\n",
       "    <tr>\n",
       "      <th>0</th>\n",
       "      <td>Anton</td>\n",
       "      <td>38</td>\n",
       "      <td>Stockholm</td>\n",
       "    </tr>\n",
       "    <tr>\n",
       "      <th>1</th>\n",
       "      <td>Ben</td>\n",
       "      <td>43</td>\n",
       "      <td>Göteborg</td>\n",
       "    </tr>\n",
       "    <tr>\n",
       "      <th>2</th>\n",
       "      <td>Carl</td>\n",
       "      <td>50</td>\n",
       "      <td>Malmö</td>\n",
       "    </tr>\n",
       "  </tbody>\n",
       "</table>\n",
       "</div>"
      ],
      "text/plain": [
       "    name  age       city\n",
       "0  Anton   38  Stockholm\n",
       "1    Ben   43   Göteborg\n",
       "2   Carl   50      Malmö"
      ]
     },
     "execution_count": 11,
     "metadata": {},
     "output_type": "execute_result"
    }
   ],
   "source": [
    "import pandas as pd\n",
    "data ={\n",
    "    \"name\": [\"Anton\", \"Ben\", \"Carl\"],\n",
    "    \"age\": [38,43,50],\n",
    "    \"city\": [\"Stockholm\", \"Göteborg\", \"Malmö\"]\n",
    "}\n",
    "\n",
    "df = pd.DataFrame(data)\n",
    "df.to_csv(\"people.csv\", index=False)\n",
    "\n",
    "df2=pd.read_csv(\"people.csv\")\n",
    "print(df2)\n",
    "df2"
   ]
  },
  {
   "cell_type": "code",
   "execution_count": 10,
   "id": "226187f9",
   "metadata": {},
   "outputs": [
    {
     "name": "stdout",
     "output_type": "stream",
     "text": [
      "Alex\n",
      "26\n",
      "Swedish\n"
     ]
    }
   ],
   "source": [
    "person = {\"name\": \"Alex\", \"age\": 26, \"city\": \"Stockholm\"}\n",
    "print(person[\"name\"])\n",
    "print(person[\"age\"])\n",
    "person[\"language\"] = \"Swedish\"\n",
    "print(person[\"language\"])\n",
    "\n"
   ]
  },
  {
   "cell_type": "code",
   "execution_count": 15,
   "id": "a0f89053",
   "metadata": {},
   "outputs": [
    {
     "name": "stdout",
     "output_type": "stream",
     "text": [
      "lasagne\n",
      "4.7\n",
      "False\n",
      "True\n"
     ]
    }
   ],
   "source": [
    "favs = [\"pizza\", \"ribs\", \"lasagne\", \"stew\", \"pie\"]\n",
    "print(favs[2])\n",
    "\n",
    "movies={\n",
    "    \"title\" : \"Forrest Gump\",\n",
    "    \"year\" : 1994,\n",
    "    \"rating\": 4.7\n",
    "}\n",
    "\n",
    "print(movies[\"rating\"])\n",
    "\n",
    "\n",
    "def iseven(a):\n",
    "    return a%2==0\n",
    "\n",
    "print(iseven(7))\n",
    "print(iseven(4))"
   ]
  },
  {
   "cell_type": "code",
   "execution_count": 19,
   "id": "16e2fd69",
   "metadata": {},
   "outputs": [
    {
     "data": {
      "text/html": [
       "<div>\n",
       "<style scoped>\n",
       "    .dataframe tbody tr th:only-of-type {\n",
       "        vertical-align: middle;\n",
       "    }\n",
       "\n",
       "    .dataframe tbody tr th {\n",
       "        vertical-align: top;\n",
       "    }\n",
       "\n",
       "    .dataframe thead th {\n",
       "        text-align: right;\n",
       "    }\n",
       "</style>\n",
       "<table border=\"1\" class=\"dataframe\">\n",
       "  <thead>\n",
       "    <tr style=\"text-align: right;\">\n",
       "      <th></th>\n",
       "      <th>date</th>\n",
       "      <th>temperature</th>\n",
       "    </tr>\n",
       "  </thead>\n",
       "  <tbody>\n",
       "    <tr>\n",
       "      <th>0</th>\n",
       "      <td>2025-10-25</td>\n",
       "      <td>12.3</td>\n",
       "    </tr>\n",
       "    <tr>\n",
       "      <th>1</th>\n",
       "      <td>2025-10-26</td>\n",
       "      <td>11.2</td>\n",
       "    </tr>\n",
       "    <tr>\n",
       "      <th>2</th>\n",
       "      <td>2025-10-27</td>\n",
       "      <td>8.5</td>\n",
       "    </tr>\n",
       "  </tbody>\n",
       "</table>\n",
       "</div>"
      ],
      "text/plain": [
       "         date  temperature\n",
       "0  2025-10-25         12.3\n",
       "1  2025-10-26         11.2\n",
       "2  2025-10-27          8.5"
      ]
     },
     "execution_count": 19,
     "metadata": {},
     "output_type": "execute_result"
    }
   ],
   "source": [
    "data = {\n",
    "    \"date\":[\"2025-10-25\", \"2025-10-26\", \"2025-10-27\"],\n",
    "    \"temperature\":[12.3, 11.2, 8.5]\n",
    "}\n",
    "\n",
    "df = pd.DataFrame(data)\n",
    "df.to_csv(\"temps.csv\", index=False)\n",
    "\n",
    "df2 = pd.read_csv(\"temps.csv\")\n",
    "df2"
   ]
  },
  {
   "cell_type": "code",
   "execution_count": 1,
   "id": "b645db6a",
   "metadata": {},
   "outputs": [
    {
     "name": "stdout",
     "output_type": "stream",
     "text": [
      "[1 2 3 4 5]\n",
      "Type: <class 'numpy.ndarray'>\n",
      "Shape: (5,)\n",
      "Data Type: int64\n",
      "Number of Elements: 5\n",
      "ndim 1\n"
     ]
    }
   ],
   "source": [
    "import numpy as np\n",
    "\n",
    "arr = np.array([1,2,3,4,5])\n",
    "print(arr)\n",
    "\n",
    "print(\"Type:\", type(arr))\n",
    "print(\"Shape:\", arr.shape)\n",
    "print(\"Data Type:\", arr.dtype)\n",
    "print(\"Number of Elements:\", arr.size)\n",
    "print(\"ndim\", arr.ndim)"
   ]
  },
  {
   "cell_type": "code",
   "execution_count": 3,
   "id": "45906c93",
   "metadata": {},
   "outputs": [
    {
     "name": "stdout",
     "output_type": "stream",
     "text": [
      "z [0. 0. 0. 0. 0.]\n",
      "o (3x2):\n",
      " [[1. 1.]\n",
      " [1. 1.]\n",
      " [1. 1.]]\n"
     ]
    }
   ],
   "source": [
    "z = np.zeros(5)\n",
    "o = np.ones((3,2))\n",
    "print(\"z\", z)\n",
    "print(\"o (3x2):\\n\",o)"
   ]
  },
  {
   "cell_type": "code",
   "execution_count": 5,
   "id": "ef3e4ed9",
   "metadata": {},
   "outputs": [
    {
     "name": "stdout",
     "output_type": "stream",
     "text": [
      "hourly[0:3]:\n",
      " [[0 1 2]\n",
      " [3 4 5]\n",
      " [6 7 8]]\n",
      "adjusted[0:3]:\n",
      " [[  0 101 202]\n",
      " [  3 104 205]\n",
      " [  6 107 208]]\n"
     ]
    }
   ],
   "source": [
    "hourly = np.arange(24*3).reshape(24,3)\n",
    "offset = np.array([0,100,200])\n",
    "adjusted = hourly + offset\n",
    "print(\"hourly[0:3]:\\n\", hourly[0:3])\n",
    "print(\"adjusted[0:3]:\\n\",adjusted[0:3])"
   ]
  },
  {
   "cell_type": "code",
   "execution_count": 7,
   "id": "0d70a09d",
   "metadata": {},
   "outputs": [
    {
     "name": "stdout",
     "output_type": "stream",
     "text": [
      "a shape: (12,)\n",
      "[ 0  1  2  3  4  5  6  7  8  9 10 11]\n",
      "b shape: (3, 4)\n",
      "[[ 0  1  2  3]\n",
      " [ 4  5  6  7]\n",
      " [ 8  9 10 11]]\n"
     ]
    }
   ],
   "source": [
    "import numpy as np\n",
    "\n",
    "a = np.arange(12)   # 12 numbers → [0, 1, 2, ..., 11]\n",
    "b = a.reshape(3, 4) # reshape to 3 rows × 4 columns\n",
    "\n",
    "print(\"a shape:\", a.shape)\n",
    "print(a)\n",
    "print(\"b shape:\", b.shape)\n",
    "print(b)"
   ]
  },
  {
   "cell_type": "code",
   "execution_count": 19,
   "id": "05865108",
   "metadata": {},
   "outputs": [
    {
     "data": {
      "text/plain": [
       "array([ 0. ,  2.5,  5. ,  7.5, 10. ])"
      ]
     },
     "execution_count": 19,
     "metadata": {},
     "output_type": "execute_result"
    }
   ],
   "source": [
    "a = np.linspace(0, 10, 5)\n",
    "a\n"
   ]
  },
  {
   "cell_type": "code",
   "execution_count": 45,
   "id": "3425c68b",
   "metadata": {},
   "outputs": [
    {
     "name": "stdout",
     "output_type": "stream",
     "text": [
      "Temperature Data: [11.5  9.6 11.9 14.6  9.3  nan 14.7 12.3  8.6 11.6  8.6  8.6 99.9  4.3\n",
      "  4.8  8.3  7.  10.9  7.3  5.8 14.4  9.3 10.2  5.7  8.4 10.3  6.5 11.1\n",
      "  8.2  9.1]\n",
      "(30,)\n",
      "float64\n",
      "4.3\n",
      "99.9\n",
      "12.5\n",
      "30\n",
      "[False False False False False False False False False False False False\n",
      "  True False False False False False False False False False False False\n",
      " False False False False False False]\n",
      "[11.5  9.6 11.9 14.6  9.3  nan 14.7 12.3  8.6 11.6  8.6  8.6  nan  4.3\n",
      "  4.8  8.3  7.  10.9  7.3  5.8 14.4  9.3 10.2  5.7  8.4 10.3  6.5 11.1\n",
      "  8.2  9.1]\n",
      "4.3\n",
      "14.7\n",
      "9.4\n"
     ]
    }
   ],
   "source": [
    "import numpy as np\n",
    "\n",
    "np.random.seed(42)\n",
    "temperatures = np.round(np.random.normal(loc=10, scale=3, size=30),1)\n",
    "\n",
    "temperatures[5] = np.nan\n",
    "temperatures[12] = 99.9\n",
    "\n",
    "print(\"Temperature Data:\", temperatures)\n",
    "\n",
    "print(temperatures.shape)\n",
    "print(temperatures.dtype)\n",
    "print(np.nanmin(temperatures))\n",
    "print(np.nanmax(temperatures))\n",
    "print(np.round(np.nanmean(temperatures),1))\n",
    "print(temperatures.size)\n",
    "\n",
    "invalid = (temperatures > 40) | (temperatures < -30)\n",
    "print (invalid)\n",
    "cleaned = np.where(invalid, np.nan, temperatures)\n",
    "print (cleaned)\n",
    "\n",
    "print(np.nanmin(cleaned))\n",
    "print(np.nanmax(cleaned))\n",
    "print(np.round(np.nanmean(cleaned),1))"
   ]
  }
 ],
 "metadata": {
  "kernelspec": {
   "display_name": "Python 3",
   "language": "python",
   "name": "python3"
  },
  "language_info": {
   "codemirror_mode": {
    "name": "ipython",
    "version": 3
   },
   "file_extension": ".py",
   "mimetype": "text/x-python",
   "name": "python",
   "nbconvert_exporter": "python",
   "pygments_lexer": "ipython3",
   "version": "3.13.7"
  }
 },
 "nbformat": 4,
 "nbformat_minor": 5
}
